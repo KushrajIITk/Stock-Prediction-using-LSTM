{
 "cells": [
  {
   "cell_type": "code",
   "execution_count": 1,
   "id": "d7809af6",
   "metadata": {},
   "outputs": [],
   "source": [
    "import numpy as np\n",
    "import pandas as pd\n",
    "from tensorflow.keras.models import Sequential\n",
    "from tensorflow.keras.layers import LSTM, Dense"
   ]
  },
  {
   "cell_type": "code",
   "execution_count": 2,
   "id": "a19011e8-29ee-49d1-889a-0b567f9bab1b",
   "metadata": {},
   "outputs": [],
   "source": [
    "def create_dataset(dataset,timestep):\n",
    "    X=[]\n",
    "    Y=[]\n",
    "    for i in range(dataset.shape[0]-timestep):\n",
    "        X.append(dataset.iloc[i:i+timestep,0])\n",
    "        Y.append(dataset.iloc[i+timestep,0])\n",
    "    return np.array(X),np.array(Y)"
   ]
  },
  {
   "cell_type": "code",
   "execution_count": 3,
   "id": "e889487a-c56d-4478-961a-22ab4d0c12dd",
   "metadata": {},
   "outputs": [
    {
     "data": {
      "text/html": [
       "<div>\n",
       "<style scoped>\n",
       "    .dataframe tbody tr th:only-of-type {\n",
       "        vertical-align: middle;\n",
       "    }\n",
       "\n",
       "    .dataframe tbody tr th {\n",
       "        vertical-align: top;\n",
       "    }\n",
       "\n",
       "    .dataframe thead th {\n",
       "        text-align: right;\n",
       "    }\n",
       "</style>\n",
       "<table border=\"1\" class=\"dataframe\">\n",
       "  <thead>\n",
       "    <tr style=\"text-align: right;\">\n",
       "      <th></th>\n",
       "      <th>Symbol</th>\n",
       "      <th>Date</th>\n",
       "      <th>Expiry</th>\n",
       "      <th>Open</th>\n",
       "      <th>High</th>\n",
       "      <th>Low</th>\n",
       "      <th>Close</th>\n",
       "      <th>LTP</th>\n",
       "      <th>Settle Price</th>\n",
       "      <th>No. of contracts</th>\n",
       "      <th>Turnover * in   ₹ Lakhs</th>\n",
       "      <th>Open Int</th>\n",
       "      <th>Change in OI</th>\n",
       "      <th>Underlying Value</th>\n",
       "    </tr>\n",
       "  </thead>\n",
       "  <tbody>\n",
       "    <tr>\n",
       "      <th>0</th>\n",
       "      <td>TATAMOTORS</td>\n",
       "      <td>23-May-2024</td>\n",
       "      <td>30-May-2024</td>\n",
       "      <td>952.00</td>\n",
       "      <td>966.0</td>\n",
       "      <td>947.85</td>\n",
       "      <td>964.85</td>\n",
       "      <td>964.75</td>\n",
       "      <td>964.85</td>\n",
       "      <td>16158.0</td>\n",
       "      <td>220462.92</td>\n",
       "      <td>57750975.0</td>\n",
       "      <td>-4763775.0</td>\n",
       "      <td>962.35</td>\n",
       "    </tr>\n",
       "    <tr>\n",
       "      <th>1</th>\n",
       "      <td>TATAMOTORS</td>\n",
       "      <td>23-May-2024</td>\n",
       "      <td>27-Jun-2024</td>\n",
       "      <td>952.75</td>\n",
       "      <td>966.0</td>\n",
       "      <td>948.30</td>\n",
       "      <td>965.00</td>\n",
       "      <td>964.60</td>\n",
       "      <td>965.00</td>\n",
       "      <td>6731.0</td>\n",
       "      <td>91892.11</td>\n",
       "      <td>24306225.0</td>\n",
       "      <td>481650.0</td>\n",
       "      <td>962.35</td>\n",
       "    </tr>\n",
       "    <tr>\n",
       "      <th>2</th>\n",
       "      <td>TATAMOTORS</td>\n",
       "      <td>23-May-2024</td>\n",
       "      <td>25-Jul-2024</td>\n",
       "      <td>957.00</td>\n",
       "      <td>971.5</td>\n",
       "      <td>956.00</td>\n",
       "      <td>970.90</td>\n",
       "      <td>970.90</td>\n",
       "      <td>970.90</td>\n",
       "      <td>718.0</td>\n",
       "      <td>3811.17</td>\n",
       "      <td>1599400.0</td>\n",
       "      <td>-68750.0</td>\n",
       "      <td>962.35</td>\n",
       "    </tr>\n",
       "    <tr>\n",
       "      <th>3</th>\n",
       "      <td>TATAMOTORS</td>\n",
       "      <td>24-May-2024</td>\n",
       "      <td>30-May-2024</td>\n",
       "      <td>964.00</td>\n",
       "      <td>973.8</td>\n",
       "      <td>960.40</td>\n",
       "      <td>963.00</td>\n",
       "      <td>961.55</td>\n",
       "      <td>963.00</td>\n",
       "      <td>13394.0</td>\n",
       "      <td>184839.86</td>\n",
       "      <td>54802650.0</td>\n",
       "      <td>-2948325.0</td>\n",
       "      <td>960.55</td>\n",
       "    </tr>\n",
       "    <tr>\n",
       "      <th>4</th>\n",
       "      <td>TATAMOTORS</td>\n",
       "      <td>24-May-2024</td>\n",
       "      <td>27-Jun-2024</td>\n",
       "      <td>964.60</td>\n",
       "      <td>973.8</td>\n",
       "      <td>950.05</td>\n",
       "      <td>963.55</td>\n",
       "      <td>961.75</td>\n",
       "      <td>963.55</td>\n",
       "      <td>7577.0</td>\n",
       "      <td>104611.41</td>\n",
       "      <td>27419850.0</td>\n",
       "      <td>3113625.0</td>\n",
       "      <td>960.55</td>\n",
       "    </tr>\n",
       "  </tbody>\n",
       "</table>\n",
       "</div>"
      ],
      "text/plain": [
       "     Symbol         Date       Expiry    Open    High     Low    Close    \\\n",
       "0  TATAMOTORS  23-May-2024  30-May-2024  952.00   966.0  947.85   964.85   \n",
       "1  TATAMOTORS  23-May-2024  27-Jun-2024  952.75   966.0  948.30   965.00   \n",
       "2  TATAMOTORS  23-May-2024  25-Jul-2024  957.00   971.5  956.00   970.90   \n",
       "3  TATAMOTORS  24-May-2024  30-May-2024  964.00   973.8  960.40   963.00   \n",
       "4  TATAMOTORS  24-May-2024  27-Jun-2024  964.60   973.8  950.05   963.55   \n",
       "\n",
       "    LTP    Settle Price    No. of contracts    Turnover * in   ₹ Lakhs  \\\n",
       "0  964.75          964.85             16158.0                220462.92   \n",
       "1  964.60          965.00              6731.0                 91892.11   \n",
       "2  970.90          970.90               718.0                  3811.17   \n",
       "3  961.55          963.00             13394.0                184839.86   \n",
       "4  961.75          963.55              7577.0                104611.41   \n",
       "\n",
       "   Open Int    Change in OI    Underlying Value    \n",
       "0  57750975.0      -4763775.0              962.35  \n",
       "1  24306225.0        481650.0              962.35  \n",
       "2   1599400.0        -68750.0              962.35  \n",
       "3  54802650.0      -2948325.0              960.55  \n",
       "4  27419850.0       3113625.0              960.55  "
      ]
     },
     "execution_count": 3,
     "metadata": {},
     "output_type": "execute_result"
    }
   ],
   "source": [
    "df=pd.read_csv('FUTSTK_TATAMOTORS_23-May-2024_TO_23-Aug-2024.csv')\n",
    "df.head()"
   ]
  },
  {
   "cell_type": "code",
   "execution_count": 4,
   "id": "fcfc42fa-11ca-4002-b385-71b9144e135c",
   "metadata": {},
   "outputs": [
    {
     "name": "stderr",
     "output_type": "stream",
     "text": [
      "C:\\Users\\Kushagra\\AppData\\Local\\Temp\\ipykernel_8320\\895408704.py:2: SettingWithCopyWarning: \n",
      "A value is trying to be set on a copy of a slice from a DataFrame\n",
      "\n",
      "See the caveats in the documentation: https://pandas.pydata.org/pandas-docs/stable/user_guide/indexing.html#returning-a-view-versus-a-copy\n",
      "  df1.rename(columns={'Date  ':'Date','Open  ':'Open'},inplace=True)\n"
     ]
    },
    {
     "data": {
      "text/plain": [
       "(Index(['Date', 'Open'], dtype='object'),\n",
       "           Date    Open\n",
       " 0  23-May-2024  952.00\n",
       " 1  23-May-2024  952.75\n",
       " 2  23-May-2024  957.00\n",
       " 3  24-May-2024  964.00\n",
       " 4  24-May-2024  964.60)"
      ]
     },
     "execution_count": 4,
     "metadata": {},
     "output_type": "execute_result"
    }
   ],
   "source": [
    "df1=df[['Date  ','Open  ']]\n",
    "df1.rename(columns={'Date  ':'Date','Open  ':'Open'},inplace=True)\n",
    "df1.columns,df1.head()"
   ]
  },
  {
   "cell_type": "code",
   "execution_count": 5,
   "id": "74dd9f61-d39e-46bb-acdd-038d98643a4a",
   "metadata": {},
   "outputs": [
    {
     "data": {
      "text/plain": [
       "Date     object\n",
       "Open    float64\n",
       "dtype: object"
      ]
     },
     "execution_count": 5,
     "metadata": {},
     "output_type": "execute_result"
    }
   ],
   "source": [
    "df1.dtypes"
   ]
  },
  {
   "cell_type": "code",
   "execution_count": 6,
   "id": "862ddacb-16e3-4f2a-964f-06cd5a731a49",
   "metadata": {},
   "outputs": [],
   "source": [
    "import datetime\n"
   ]
  },
  {
   "cell_type": "code",
   "execution_count": 7,
   "id": "18c4d14c-6e29-49bf-948f-f9ee7e46cf2e",
   "metadata": {},
   "outputs": [
    {
     "name": "stderr",
     "output_type": "stream",
     "text": [
      "C:\\Users\\Kushagra\\AppData\\Local\\Temp\\ipykernel_8320\\3049488806.py:4: SettingWithCopyWarning: \n",
      "A value is trying to be set on a copy of a slice from a DataFrame.\n",
      "Try using .loc[row_indexer,col_indexer] = value instead\n",
      "\n",
      "See the caveats in the documentation: https://pandas.pydata.org/pandas-docs/stable/user_guide/indexing.html#returning-a-view-versus-a-copy\n",
      "  df1.Date=a\n"
     ]
    },
    {
     "data": {
      "text/html": [
       "<div>\n",
       "<style scoped>\n",
       "    .dataframe tbody tr th:only-of-type {\n",
       "        vertical-align: middle;\n",
       "    }\n",
       "\n",
       "    .dataframe tbody tr th {\n",
       "        vertical-align: top;\n",
       "    }\n",
       "\n",
       "    .dataframe thead th {\n",
       "        text-align: right;\n",
       "    }\n",
       "</style>\n",
       "<table border=\"1\" class=\"dataframe\">\n",
       "  <thead>\n",
       "    <tr style=\"text-align: right;\">\n",
       "      <th></th>\n",
       "      <th>Date</th>\n",
       "      <th>Open</th>\n",
       "    </tr>\n",
       "  </thead>\n",
       "  <tbody>\n",
       "    <tr>\n",
       "      <th>0</th>\n",
       "      <td>2024-05-23</td>\n",
       "      <td>952.00</td>\n",
       "    </tr>\n",
       "    <tr>\n",
       "      <th>1</th>\n",
       "      <td>2024-05-23</td>\n",
       "      <td>952.75</td>\n",
       "    </tr>\n",
       "    <tr>\n",
       "      <th>2</th>\n",
       "      <td>2024-05-23</td>\n",
       "      <td>957.00</td>\n",
       "    </tr>\n",
       "    <tr>\n",
       "      <th>3</th>\n",
       "      <td>2024-05-24</td>\n",
       "      <td>964.00</td>\n",
       "    </tr>\n",
       "    <tr>\n",
       "      <th>4</th>\n",
       "      <td>2024-05-24</td>\n",
       "      <td>964.60</td>\n",
       "    </tr>\n",
       "  </tbody>\n",
       "</table>\n",
       "</div>"
      ],
      "text/plain": [
       "        Date    Open\n",
       "0 2024-05-23  952.00\n",
       "1 2024-05-23  952.75\n",
       "2 2024-05-23  957.00\n",
       "3 2024-05-24  964.00\n",
       "4 2024-05-24  964.60"
      ]
     },
     "execution_count": 7,
     "metadata": {},
     "output_type": "execute_result"
    }
   ],
   "source": [
    "a=[]\n",
    "for i in df1.Date:\n",
    "    a.append(datetime.datetime.strptime(i,'%d-%b-%Y'))\n",
    "df1.Date=a\n",
    "df1.head()"
   ]
  },
  {
   "cell_type": "code",
   "execution_count": 8,
   "id": "26b0eb2e-2f49-41ba-9fa3-6904de89c841",
   "metadata": {},
   "outputs": [
    {
     "data": {
      "text/plain": [
       "count                              189\n",
       "mean     2024-07-07 11:25:42.857142784\n",
       "min                2024-05-23 00:00:00\n",
       "25%                2024-06-13 00:00:00\n",
       "50%                2024-07-08 00:00:00\n",
       "75%                2024-07-31 00:00:00\n",
       "max                2024-08-22 00:00:00\n",
       "Name: Date, dtype: object"
      ]
     },
     "execution_count": 8,
     "metadata": {},
     "output_type": "execute_result"
    }
   ],
   "source": [
    "df1.Date.describe()"
   ]
  },
  {
   "cell_type": "code",
   "execution_count": 9,
   "id": "7657ae10-1ab9-436d-8ec6-9c947ee285e4",
   "metadata": {},
   "outputs": [],
   "source": [
    "df1.set_index('Date',inplace=True)"
   ]
  },
  {
   "cell_type": "code",
   "execution_count": 10,
   "id": "fb8ee61f-bc12-4dc2-a4b9-cab3187b77f2",
   "metadata": {},
   "outputs": [
    {
     "data": {
      "text/plain": [
       "((144, 1), (45, 1))"
      ]
     },
     "execution_count": 10,
     "metadata": {},
     "output_type": "execute_result"
    }
   ],
   "source": [
    "train=df1[df1.index<'20240801']\n",
    "test=df1[df1.index>'20240731']\n",
    "train.shape,test.shape"
   ]
  },
  {
   "cell_type": "code",
   "execution_count": 16,
   "id": "3b16c62e-c3a9-4cc1-a868-512e519a320a",
   "metadata": {},
   "outputs": [],
   "source": [
    "from sklearn.preprocessing import MinMaxScaler"
   ]
  },
  {
   "cell_type": "code",
   "execution_count": 21,
   "id": "69064b08-9d28-41c9-8210-806572f3b333",
   "metadata": {},
   "outputs": [],
   "source": [
    "sc=MinMaxScaler()\n",
    "train1=pd.DataFrame(sc.fit_transform(train),index=train.index)"
   ]
  },
  {
   "cell_type": "code",
   "execution_count": 22,
   "id": "1b53c71a-20ef-4677-a86a-87b7fa08742b",
   "metadata": {},
   "outputs": [
    {
     "data": {
      "text/html": [
       "<div>\n",
       "<style scoped>\n",
       "    .dataframe tbody tr th:only-of-type {\n",
       "        vertical-align: middle;\n",
       "    }\n",
       "\n",
       "    .dataframe tbody tr th {\n",
       "        vertical-align: top;\n",
       "    }\n",
       "\n",
       "    .dataframe thead th {\n",
       "        text-align: right;\n",
       "    }\n",
       "</style>\n",
       "<table border=\"1\" class=\"dataframe\">\n",
       "  <thead>\n",
       "    <tr style=\"text-align: right;\">\n",
       "      <th></th>\n",
       "      <th>0</th>\n",
       "    </tr>\n",
       "    <tr>\n",
       "      <th>Date</th>\n",
       "      <th></th>\n",
       "    </tr>\n",
       "  </thead>\n",
       "  <tbody>\n",
       "    <tr>\n",
       "      <th>2024-05-23</th>\n",
       "      <td>0.131024</td>\n",
       "    </tr>\n",
       "    <tr>\n",
       "      <th>2024-05-23</th>\n",
       "      <td>0.133927</td>\n",
       "    </tr>\n",
       "    <tr>\n",
       "      <th>2024-05-23</th>\n",
       "      <td>0.150377</td>\n",
       "    </tr>\n",
       "    <tr>\n",
       "      <th>2024-05-24</th>\n",
       "      <td>0.177472</td>\n",
       "    </tr>\n",
       "    <tr>\n",
       "      <th>2024-05-24</th>\n",
       "      <td>0.179795</td>\n",
       "    </tr>\n",
       "    <tr>\n",
       "      <th>...</th>\n",
       "      <td>...</td>\n",
       "    </tr>\n",
       "    <tr>\n",
       "      <th>2024-07-30</th>\n",
       "      <td>0.829688</td>\n",
       "    </tr>\n",
       "    <tr>\n",
       "      <th>2024-07-30</th>\n",
       "      <td>0.842075</td>\n",
       "    </tr>\n",
       "    <tr>\n",
       "      <th>2024-07-31</th>\n",
       "      <td>0.952971</td>\n",
       "    </tr>\n",
       "    <tr>\n",
       "      <th>2024-07-31</th>\n",
       "      <td>0.967486</td>\n",
       "    </tr>\n",
       "    <tr>\n",
       "      <th>2024-07-31</th>\n",
       "      <td>1.000000</td>\n",
       "    </tr>\n",
       "  </tbody>\n",
       "</table>\n",
       "<p>144 rows × 1 columns</p>\n",
       "</div>"
      ],
      "text/plain": [
       "                   0\n",
       "Date                \n",
       "2024-05-23  0.131024\n",
       "2024-05-23  0.133927\n",
       "2024-05-23  0.150377\n",
       "2024-05-24  0.177472\n",
       "2024-05-24  0.179795\n",
       "...              ...\n",
       "2024-07-30  0.829688\n",
       "2024-07-30  0.842075\n",
       "2024-07-31  0.952971\n",
       "2024-07-31  0.967486\n",
       "2024-07-31  1.000000\n",
       "\n",
       "[144 rows x 1 columns]"
      ]
     },
     "execution_count": 22,
     "metadata": {},
     "output_type": "execute_result"
    }
   ],
   "source": [
    "train1"
   ]
  },
  {
   "cell_type": "code",
   "execution_count": 23,
   "id": "d9527612-15bb-4f82-807f-e1c2e7723f81",
   "metadata": {},
   "outputs": [
    {
     "data": {
      "text/plain": [
       "((124, 20), (124,))"
      ]
     },
     "execution_count": 23,
     "metadata": {},
     "output_type": "execute_result"
    }
   ],
   "source": [
    "X,Y=create_dataset(train1,20)\n",
    "X.shape,Y.shape"
   ]
  },
  {
   "cell_type": "code",
   "execution_count": 24,
   "id": "3b24245b-17e4-4b4d-b22b-12cc5a74196c",
   "metadata": {},
   "outputs": [],
   "source": [
    "from sklearn.model_selection import train_test_split\n",
    "X_train,X_val,Y_train,Y_val=train_test_split(X,Y,test_size=20)"
   ]
  },
  {
   "cell_type": "code",
   "execution_count": 25,
   "id": "d0ce7620-cdb3-4b66-a377-245d9222f81c",
   "metadata": {},
   "outputs": [],
   "source": [
    "X_train=X_train.reshape(X_train.shape[0],X_train.shape[1],1)\n",
    "X_val=X_val.reshape(X_val.shape[0],X_val.shape[1],1)"
   ]
  },
  {
   "cell_type": "code",
   "execution_count": 26,
   "id": "01f7d380-e3c7-423d-bdba-114a65598700",
   "metadata": {},
   "outputs": [
    {
     "name": "stderr",
     "output_type": "stream",
     "text": [
      "C:\\Users\\Kushagra\\AppData\\Local\\Packages\\PythonSoftwareFoundation.Python.3.11_qbz5n2kfra8p0\\LocalCache\\local-packages\\Python311\\site-packages\\keras\\src\\layers\\rnn\\rnn.py:204: UserWarning: Do not pass an `input_shape`/`input_dim` argument to a layer. When using Sequential models, prefer using an `Input(shape)` object as the first layer in the model instead.\n",
      "  super().__init__(**kwargs)\n"
     ]
    },
    {
     "data": {
      "text/html": [
       "<pre style=\"white-space:pre;overflow-x:auto;line-height:normal;font-family:Menlo,'DejaVu Sans Mono',consolas,'Courier New',monospace\"><span style=\"font-weight: bold\">Model: \"sequential_1\"</span>\n",
       "</pre>\n"
      ],
      "text/plain": [
       "\u001b[1mModel: \"sequential_1\"\u001b[0m\n"
      ]
     },
     "metadata": {},
     "output_type": "display_data"
    },
    {
     "data": {
      "text/html": [
       "<pre style=\"white-space:pre;overflow-x:auto;line-height:normal;font-family:Menlo,'DejaVu Sans Mono',consolas,'Courier New',monospace\">┏━━━━━━━━━━━━━━━━━━━━━━━━━━━━━━━━━━━━━━┳━━━━━━━━━━━━━━━━━━━━━━━━━━━━━┳━━━━━━━━━━━━━━━━━┓\n",
       "┃<span style=\"font-weight: bold\"> Layer (type)                         </span>┃<span style=\"font-weight: bold\"> Output Shape                </span>┃<span style=\"font-weight: bold\">         Param # </span>┃\n",
       "┡━━━━━━━━━━━━━━━━━━━━━━━━━━━━━━━━━━━━━━╇━━━━━━━━━━━━━━━━━━━━━━━━━━━━━╇━━━━━━━━━━━━━━━━━┩\n",
       "│ lstm_3 (<span style=\"color: #0087ff; text-decoration-color: #0087ff\">LSTM</span>)                        │ (<span style=\"color: #00d7ff; text-decoration-color: #00d7ff\">None</span>, <span style=\"color: #00af00; text-decoration-color: #00af00\">20</span>, <span style=\"color: #00af00; text-decoration-color: #00af00\">50</span>)              │          <span style=\"color: #00af00; text-decoration-color: #00af00\">10,400</span> │\n",
       "├──────────────────────────────────────┼─────────────────────────────┼─────────────────┤\n",
       "│ lstm_4 (<span style=\"color: #0087ff; text-decoration-color: #0087ff\">LSTM</span>)                        │ (<span style=\"color: #00d7ff; text-decoration-color: #00d7ff\">None</span>, <span style=\"color: #00af00; text-decoration-color: #00af00\">20</span>, <span style=\"color: #00af00; text-decoration-color: #00af00\">50</span>)              │          <span style=\"color: #00af00; text-decoration-color: #00af00\">20,200</span> │\n",
       "├──────────────────────────────────────┼─────────────────────────────┼─────────────────┤\n",
       "│ lstm_5 (<span style=\"color: #0087ff; text-decoration-color: #0087ff\">LSTM</span>)                        │ (<span style=\"color: #00d7ff; text-decoration-color: #00d7ff\">None</span>, <span style=\"color: #00af00; text-decoration-color: #00af00\">50</span>)                  │          <span style=\"color: #00af00; text-decoration-color: #00af00\">20,200</span> │\n",
       "├──────────────────────────────────────┼─────────────────────────────┼─────────────────┤\n",
       "│ dense_1 (<span style=\"color: #0087ff; text-decoration-color: #0087ff\">Dense</span>)                      │ (<span style=\"color: #00d7ff; text-decoration-color: #00d7ff\">None</span>, <span style=\"color: #00af00; text-decoration-color: #00af00\">1</span>)                   │              <span style=\"color: #00af00; text-decoration-color: #00af00\">51</span> │\n",
       "└──────────────────────────────────────┴─────────────────────────────┴─────────────────┘\n",
       "</pre>\n"
      ],
      "text/plain": [
       "┏━━━━━━━━━━━━━━━━━━━━━━━━━━━━━━━━━━━━━━┳━━━━━━━━━━━━━━━━━━━━━━━━━━━━━┳━━━━━━━━━━━━━━━━━┓\n",
       "┃\u001b[1m \u001b[0m\u001b[1mLayer (type)                        \u001b[0m\u001b[1m \u001b[0m┃\u001b[1m \u001b[0m\u001b[1mOutput Shape               \u001b[0m\u001b[1m \u001b[0m┃\u001b[1m \u001b[0m\u001b[1m        Param #\u001b[0m\u001b[1m \u001b[0m┃\n",
       "┡━━━━━━━━━━━━━━━━━━━━━━━━━━━━━━━━━━━━━━╇━━━━━━━━━━━━━━━━━━━━━━━━━━━━━╇━━━━━━━━━━━━━━━━━┩\n",
       "│ lstm_3 (\u001b[38;5;33mLSTM\u001b[0m)                        │ (\u001b[38;5;45mNone\u001b[0m, \u001b[38;5;34m20\u001b[0m, \u001b[38;5;34m50\u001b[0m)              │          \u001b[38;5;34m10,400\u001b[0m │\n",
       "├──────────────────────────────────────┼─────────────────────────────┼─────────────────┤\n",
       "│ lstm_4 (\u001b[38;5;33mLSTM\u001b[0m)                        │ (\u001b[38;5;45mNone\u001b[0m, \u001b[38;5;34m20\u001b[0m, \u001b[38;5;34m50\u001b[0m)              │          \u001b[38;5;34m20,200\u001b[0m │\n",
       "├──────────────────────────────────────┼─────────────────────────────┼─────────────────┤\n",
       "│ lstm_5 (\u001b[38;5;33mLSTM\u001b[0m)                        │ (\u001b[38;5;45mNone\u001b[0m, \u001b[38;5;34m50\u001b[0m)                  │          \u001b[38;5;34m20,200\u001b[0m │\n",
       "├──────────────────────────────────────┼─────────────────────────────┼─────────────────┤\n",
       "│ dense_1 (\u001b[38;5;33mDense\u001b[0m)                      │ (\u001b[38;5;45mNone\u001b[0m, \u001b[38;5;34m1\u001b[0m)                   │              \u001b[38;5;34m51\u001b[0m │\n",
       "└──────────────────────────────────────┴─────────────────────────────┴─────────────────┘\n"
      ]
     },
     "metadata": {},
     "output_type": "display_data"
    },
    {
     "data": {
      "text/html": [
       "<pre style=\"white-space:pre;overflow-x:auto;line-height:normal;font-family:Menlo,'DejaVu Sans Mono',consolas,'Courier New',monospace\"><span style=\"font-weight: bold\"> Total params: </span><span style=\"color: #00af00; text-decoration-color: #00af00\">50,851</span> (198.64 KB)\n",
       "</pre>\n"
      ],
      "text/plain": [
       "\u001b[1m Total params: \u001b[0m\u001b[38;5;34m50,851\u001b[0m (198.64 KB)\n"
      ]
     },
     "metadata": {},
     "output_type": "display_data"
    },
    {
     "data": {
      "text/html": [
       "<pre style=\"white-space:pre;overflow-x:auto;line-height:normal;font-family:Menlo,'DejaVu Sans Mono',consolas,'Courier New',monospace\"><span style=\"font-weight: bold\"> Trainable params: </span><span style=\"color: #00af00; text-decoration-color: #00af00\">50,851</span> (198.64 KB)\n",
       "</pre>\n"
      ],
      "text/plain": [
       "\u001b[1m Trainable params: \u001b[0m\u001b[38;5;34m50,851\u001b[0m (198.64 KB)\n"
      ]
     },
     "metadata": {},
     "output_type": "display_data"
    },
    {
     "data": {
      "text/html": [
       "<pre style=\"white-space:pre;overflow-x:auto;line-height:normal;font-family:Menlo,'DejaVu Sans Mono',consolas,'Courier New',monospace\"><span style=\"font-weight: bold\"> Non-trainable params: </span><span style=\"color: #00af00; text-decoration-color: #00af00\">0</span> (0.00 B)\n",
       "</pre>\n"
      ],
      "text/plain": [
       "\u001b[1m Non-trainable params: \u001b[0m\u001b[38;5;34m0\u001b[0m (0.00 B)\n"
      ]
     },
     "metadata": {},
     "output_type": "display_data"
    }
   ],
   "source": [
    "model=Sequential()\n",
    "model.add(LSTM(50,return_sequences=True,input_shape=(20,1)))\n",
    "model.add(LSTM(50,return_sequences=True))\n",
    "model.add(LSTM(50))\n",
    "model.add(Dense(1))\n",
    "model.compile(loss='mean_squared_error',optimizer='adam')\n",
    "model.summary()"
   ]
  },
  {
   "cell_type": "code",
   "execution_count": 27,
   "id": "e8abac61-e617-42c0-a8cb-fcf6c040576f",
   "metadata": {},
   "outputs": [
    {
     "name": "stdout",
     "output_type": "stream",
     "text": [
      "Epoch 1/100\n",
      "\u001b[1m4/4\u001b[0m \u001b[32m━━━━━━━━━━━━━━━━━━━━\u001b[0m\u001b[37m\u001b[0m \u001b[1m8s\u001b[0m 288ms/step - loss: 0.1446 - val_loss: 0.0511\n",
      "Epoch 2/100\n",
      "\u001b[1m4/4\u001b[0m \u001b[32m━━━━━━━━━━━━━━━━━━━━\u001b[0m\u001b[37m\u001b[0m \u001b[1m0s\u001b[0m 36ms/step - loss: 0.0567 - val_loss: 0.0289\n",
      "Epoch 3/100\n",
      "\u001b[1m4/4\u001b[0m \u001b[32m━━━━━━━━━━━━━━━━━━━━\u001b[0m\u001b[37m\u001b[0m \u001b[1m0s\u001b[0m 37ms/step - loss: 0.0300 - val_loss: 0.0280\n",
      "Epoch 4/100\n",
      "\u001b[1m4/4\u001b[0m \u001b[32m━━━━━━━━━━━━━━━━━━━━\u001b[0m\u001b[37m\u001b[0m \u001b[1m0s\u001b[0m 41ms/step - loss: 0.0229 - val_loss: 0.0165\n",
      "Epoch 5/100\n",
      "\u001b[1m4/4\u001b[0m \u001b[32m━━━━━━━━━━━━━━━━━━━━\u001b[0m\u001b[37m\u001b[0m \u001b[1m0s\u001b[0m 36ms/step - loss: 0.0246 - val_loss: 0.0157\n",
      "Epoch 6/100\n",
      "\u001b[1m4/4\u001b[0m \u001b[32m━━━━━━━━━━━━━━━━━━━━\u001b[0m\u001b[37m\u001b[0m \u001b[1m0s\u001b[0m 45ms/step - loss: 0.0205 - val_loss: 0.0162\n",
      "Epoch 7/100\n",
      "\u001b[1m4/4\u001b[0m \u001b[32m━━━━━━━━━━━━━━━━━━━━\u001b[0m\u001b[37m\u001b[0m \u001b[1m0s\u001b[0m 37ms/step - loss: 0.0188 - val_loss: 0.0223\n",
      "Epoch 8/100\n",
      "\u001b[1m4/4\u001b[0m \u001b[32m━━━━━━━━━━━━━━━━━━━━\u001b[0m\u001b[37m\u001b[0m \u001b[1m0s\u001b[0m 36ms/step - loss: 0.0213 - val_loss: 0.0148\n",
      "Epoch 9/100\n",
      "\u001b[1m4/4\u001b[0m \u001b[32m━━━━━━━━━━━━━━━━━━━━\u001b[0m\u001b[37m\u001b[0m \u001b[1m0s\u001b[0m 37ms/step - loss: 0.0182 - val_loss: 0.0119\n",
      "Epoch 10/100\n",
      "\u001b[1m4/4\u001b[0m \u001b[32m━━━━━━━━━━━━━━━━━━━━\u001b[0m\u001b[37m\u001b[0m \u001b[1m0s\u001b[0m 38ms/step - loss: 0.0195 - val_loss: 0.0105\n",
      "Epoch 11/100\n",
      "\u001b[1m4/4\u001b[0m \u001b[32m━━━━━━━━━━━━━━━━━━━━\u001b[0m\u001b[37m\u001b[0m \u001b[1m0s\u001b[0m 38ms/step - loss: 0.0174 - val_loss: 0.0116\n",
      "Epoch 12/100\n",
      "\u001b[1m4/4\u001b[0m \u001b[32m━━━━━━━━━━━━━━━━━━━━\u001b[0m\u001b[37m\u001b[0m \u001b[1m0s\u001b[0m 39ms/step - loss: 0.0151 - val_loss: 0.0091\n",
      "Epoch 13/100\n",
      "\u001b[1m4/4\u001b[0m \u001b[32m━━━━━━━━━━━━━━━━━━━━\u001b[0m\u001b[37m\u001b[0m \u001b[1m0s\u001b[0m 39ms/step - loss: 0.0147 - val_loss: 0.0078\n",
      "Epoch 14/100\n",
      "\u001b[1m4/4\u001b[0m \u001b[32m━━━━━━━━━━━━━━━━━━━━\u001b[0m\u001b[37m\u001b[0m \u001b[1m0s\u001b[0m 38ms/step - loss: 0.0140 - val_loss: 0.0117\n",
      "Epoch 15/100\n",
      "\u001b[1m4/4\u001b[0m \u001b[32m━━━━━━━━━━━━━━━━━━━━\u001b[0m\u001b[37m\u001b[0m \u001b[1m0s\u001b[0m 38ms/step - loss: 0.0146 - val_loss: 0.0078\n",
      "Epoch 16/100\n",
      "\u001b[1m4/4\u001b[0m \u001b[32m━━━━━━━━━━━━━━━━━━━━\u001b[0m\u001b[37m\u001b[0m \u001b[1m0s\u001b[0m 39ms/step - loss: 0.0112 - val_loss: 0.0067\n",
      "Epoch 17/100\n",
      "\u001b[1m4/4\u001b[0m \u001b[32m━━━━━━━━━━━━━━━━━━━━\u001b[0m\u001b[37m\u001b[0m \u001b[1m0s\u001b[0m 39ms/step - loss: 0.0133 - val_loss: 0.0073\n",
      "Epoch 18/100\n",
      "\u001b[1m4/4\u001b[0m \u001b[32m━━━━━━━━━━━━━━━━━━━━\u001b[0m\u001b[37m\u001b[0m \u001b[1m0s\u001b[0m 40ms/step - loss: 0.0113 - val_loss: 0.0056\n",
      "Epoch 19/100\n",
      "\u001b[1m4/4\u001b[0m \u001b[32m━━━━━━━━━━━━━━━━━━━━\u001b[0m\u001b[37m\u001b[0m \u001b[1m0s\u001b[0m 61ms/step - loss: 0.0130 - val_loss: 0.0057\n",
      "Epoch 20/100\n",
      "\u001b[1m4/4\u001b[0m \u001b[32m━━━━━━━━━━━━━━━━━━━━\u001b[0m\u001b[37m\u001b[0m \u001b[1m0s\u001b[0m 37ms/step - loss: 0.0095 - val_loss: 0.0072\n",
      "Epoch 21/100\n",
      "\u001b[1m4/4\u001b[0m \u001b[32m━━━━━━━━━━━━━━━━━━━━\u001b[0m\u001b[37m\u001b[0m \u001b[1m0s\u001b[0m 39ms/step - loss: 0.0105 - val_loss: 0.0056\n",
      "Epoch 22/100\n",
      "\u001b[1m4/4\u001b[0m \u001b[32m━━━━━━━━━━━━━━━━━━━━\u001b[0m\u001b[37m\u001b[0m \u001b[1m0s\u001b[0m 39ms/step - loss: 0.0098 - val_loss: 0.0066\n",
      "Epoch 23/100\n",
      "\u001b[1m4/4\u001b[0m \u001b[32m━━━━━━━━━━━━━━━━━━━━\u001b[0m\u001b[37m\u001b[0m \u001b[1m0s\u001b[0m 40ms/step - loss: 0.0101 - val_loss: 0.0050\n",
      "Epoch 24/100\n",
      "\u001b[1m4/4\u001b[0m \u001b[32m━━━━━━━━━━━━━━━━━━━━\u001b[0m\u001b[37m\u001b[0m \u001b[1m0s\u001b[0m 43ms/step - loss: 0.0115 - val_loss: 0.0037\n",
      "Epoch 25/100\n",
      "\u001b[1m4/4\u001b[0m \u001b[32m━━━━━━━━━━━━━━━━━━━━\u001b[0m\u001b[37m\u001b[0m \u001b[1m0s\u001b[0m 38ms/step - loss: 0.0091 - val_loss: 0.0112\n",
      "Epoch 26/100\n",
      "\u001b[1m4/4\u001b[0m \u001b[32m━━━━━━━━━━━━━━━━━━━━\u001b[0m\u001b[37m\u001b[0m \u001b[1m0s\u001b[0m 39ms/step - loss: 0.0110 - val_loss: 0.0043\n",
      "Epoch 27/100\n",
      "\u001b[1m4/4\u001b[0m \u001b[32m━━━━━━━━━━━━━━━━━━━━\u001b[0m\u001b[37m\u001b[0m \u001b[1m0s\u001b[0m 38ms/step - loss: 0.0095 - val_loss: 0.0046\n",
      "Epoch 28/100\n",
      "\u001b[1m4/4\u001b[0m \u001b[32m━━━━━━━━━━━━━━━━━━━━\u001b[0m\u001b[37m\u001b[0m \u001b[1m0s\u001b[0m 39ms/step - loss: 0.0114 - val_loss: 0.0048\n",
      "Epoch 29/100\n",
      "\u001b[1m4/4\u001b[0m \u001b[32m━━━━━━━━━━━━━━━━━━━━\u001b[0m\u001b[37m\u001b[0m \u001b[1m0s\u001b[0m 38ms/step - loss: 0.0090 - val_loss: 0.0037\n",
      "Epoch 30/100\n",
      "\u001b[1m4/4\u001b[0m \u001b[32m━━━━━━━━━━━━━━━━━━━━\u001b[0m\u001b[37m\u001b[0m \u001b[1m0s\u001b[0m 40ms/step - loss: 0.0088 - val_loss: 0.0069\n",
      "Epoch 31/100\n",
      "\u001b[1m4/4\u001b[0m \u001b[32m━━━━━━━━━━━━━━━━━━━━\u001b[0m\u001b[37m\u001b[0m \u001b[1m0s\u001b[0m 40ms/step - loss: 0.0087 - val_loss: 0.0045\n",
      "Epoch 32/100\n",
      "\u001b[1m4/4\u001b[0m \u001b[32m━━━━━━━━━━━━━━━━━━━━\u001b[0m\u001b[37m\u001b[0m \u001b[1m0s\u001b[0m 41ms/step - loss: 0.0090 - val_loss: 0.0039\n",
      "Epoch 33/100\n",
      "\u001b[1m4/4\u001b[0m \u001b[32m━━━━━━━━━━━━━━━━━━━━\u001b[0m\u001b[37m\u001b[0m \u001b[1m0s\u001b[0m 52ms/step - loss: 0.0087 - val_loss: 0.0050\n",
      "Epoch 34/100\n",
      "\u001b[1m4/4\u001b[0m \u001b[32m━━━━━━━━━━━━━━━━━━━━\u001b[0m\u001b[37m\u001b[0m \u001b[1m0s\u001b[0m 39ms/step - loss: 0.0081 - val_loss: 0.0040\n",
      "Epoch 35/100\n",
      "\u001b[1m4/4\u001b[0m \u001b[32m━━━━━━━━━━━━━━━━━━━━\u001b[0m\u001b[37m\u001b[0m \u001b[1m0s\u001b[0m 42ms/step - loss: 0.0076 - val_loss: 0.0042\n",
      "Epoch 36/100\n",
      "\u001b[1m4/4\u001b[0m \u001b[32m━━━━━━━━━━━━━━━━━━━━\u001b[0m\u001b[37m\u001b[0m \u001b[1m0s\u001b[0m 42ms/step - loss: 0.0086 - val_loss: 0.0037\n",
      "Epoch 37/100\n",
      "\u001b[1m4/4\u001b[0m \u001b[32m━━━━━━━━━━━━━━━━━━━━\u001b[0m\u001b[37m\u001b[0m \u001b[1m0s\u001b[0m 41ms/step - loss: 0.0080 - val_loss: 0.0041\n",
      "Epoch 38/100\n",
      "\u001b[1m4/4\u001b[0m \u001b[32m━━━━━━━━━━━━━━━━━━━━\u001b[0m\u001b[37m\u001b[0m \u001b[1m0s\u001b[0m 38ms/step - loss: 0.0073 - val_loss: 0.0035\n",
      "Epoch 39/100\n",
      "\u001b[1m4/4\u001b[0m \u001b[32m━━━━━━━━━━━━━━━━━━━━\u001b[0m\u001b[37m\u001b[0m \u001b[1m0s\u001b[0m 40ms/step - loss: 0.0082 - val_loss: 0.0040\n",
      "Epoch 40/100\n",
      "\u001b[1m4/4\u001b[0m \u001b[32m━━━━━━━━━━━━━━━━━━━━\u001b[0m\u001b[37m\u001b[0m \u001b[1m0s\u001b[0m 40ms/step - loss: 0.0086 - val_loss: 0.0035\n",
      "Epoch 41/100\n",
      "\u001b[1m4/4\u001b[0m \u001b[32m━━━━━━━━━━━━━━━━━━━━\u001b[0m\u001b[37m\u001b[0m \u001b[1m0s\u001b[0m 38ms/step - loss: 0.0065 - val_loss: 0.0036\n",
      "Epoch 42/100\n",
      "\u001b[1m4/4\u001b[0m \u001b[32m━━━━━━━━━━━━━━━━━━━━\u001b[0m\u001b[37m\u001b[0m \u001b[1m0s\u001b[0m 40ms/step - loss: 0.0068 - val_loss: 0.0038\n",
      "Epoch 43/100\n",
      "\u001b[1m4/4\u001b[0m \u001b[32m━━━━━━━━━━━━━━━━━━━━\u001b[0m\u001b[37m\u001b[0m \u001b[1m0s\u001b[0m 45ms/step - loss: 0.0061 - val_loss: 0.0034\n",
      "Epoch 44/100\n",
      "\u001b[1m4/4\u001b[0m \u001b[32m━━━━━━━━━━━━━━━━━━━━\u001b[0m\u001b[37m\u001b[0m \u001b[1m0s\u001b[0m 43ms/step - loss: 0.0062 - val_loss: 0.0038\n",
      "Epoch 45/100\n",
      "\u001b[1m4/4\u001b[0m \u001b[32m━━━━━━━━━━━━━━━━━━━━\u001b[0m\u001b[37m\u001b[0m \u001b[1m0s\u001b[0m 40ms/step - loss: 0.0062 - val_loss: 0.0034\n",
      "Epoch 46/100\n",
      "\u001b[1m4/4\u001b[0m \u001b[32m━━━━━━━━━━━━━━━━━━━━\u001b[0m\u001b[37m\u001b[0m \u001b[1m0s\u001b[0m 43ms/step - loss: 0.0060 - val_loss: 0.0046\n",
      "Epoch 47/100\n",
      "\u001b[1m4/4\u001b[0m \u001b[32m━━━━━━━━━━━━━━━━━━━━\u001b[0m\u001b[37m\u001b[0m \u001b[1m0s\u001b[0m 38ms/step - loss: 0.0066 - val_loss: 0.0036\n",
      "Epoch 48/100\n",
      "\u001b[1m4/4\u001b[0m \u001b[32m━━━━━━━━━━━━━━━━━━━━\u001b[0m\u001b[37m\u001b[0m \u001b[1m0s\u001b[0m 45ms/step - loss: 0.0065 - val_loss: 0.0037\n",
      "Epoch 49/100\n",
      "\u001b[1m4/4\u001b[0m \u001b[32m━━━━━━━━━━━━━━━━━━━━\u001b[0m\u001b[37m\u001b[0m \u001b[1m0s\u001b[0m 38ms/step - loss: 0.0052 - val_loss: 0.0040\n",
      "Epoch 50/100\n",
      "\u001b[1m4/4\u001b[0m \u001b[32m━━━━━━━━━━━━━━━━━━━━\u001b[0m\u001b[37m\u001b[0m \u001b[1m0s\u001b[0m 49ms/step - loss: 0.0056 - val_loss: 0.0040\n",
      "Epoch 51/100\n",
      "\u001b[1m4/4\u001b[0m \u001b[32m━━━━━━━━━━━━━━━━━━━━\u001b[0m\u001b[37m\u001b[0m \u001b[1m0s\u001b[0m 43ms/step - loss: 0.0051 - val_loss: 0.0043\n",
      "Epoch 52/100\n",
      "\u001b[1m4/4\u001b[0m \u001b[32m━━━━━━━━━━━━━━━━━━━━\u001b[0m\u001b[37m\u001b[0m \u001b[1m0s\u001b[0m 45ms/step - loss: 0.0060 - val_loss: 0.0033\n",
      "Epoch 53/100\n",
      "\u001b[1m4/4\u001b[0m \u001b[32m━━━━━━━━━━━━━━━━━━━━\u001b[0m\u001b[37m\u001b[0m \u001b[1m0s\u001b[0m 45ms/step - loss: 0.0051 - val_loss: 0.0060\n",
      "Epoch 54/100\n",
      "\u001b[1m4/4\u001b[0m \u001b[32m━━━━━━━━━━━━━━━━━━━━\u001b[0m\u001b[37m\u001b[0m \u001b[1m0s\u001b[0m 50ms/step - loss: 0.0083 - val_loss: 0.0032\n",
      "Epoch 55/100\n",
      "\u001b[1m4/4\u001b[0m \u001b[32m━━━━━━━━━━━━━━━━━━━━\u001b[0m\u001b[37m\u001b[0m \u001b[1m0s\u001b[0m 46ms/step - loss: 0.0053 - val_loss: 0.0034\n",
      "Epoch 56/100\n",
      "\u001b[1m4/4\u001b[0m \u001b[32m━━━━━━━━━━━━━━━━━━━━\u001b[0m\u001b[37m\u001b[0m \u001b[1m0s\u001b[0m 43ms/step - loss: 0.0046 - val_loss: 0.0035\n",
      "Epoch 57/100\n",
      "\u001b[1m4/4\u001b[0m \u001b[32m━━━━━━━━━━━━━━━━━━━━\u001b[0m\u001b[37m\u001b[0m \u001b[1m0s\u001b[0m 38ms/step - loss: 0.0055 - val_loss: 0.0035\n",
      "Epoch 58/100\n",
      "\u001b[1m4/4\u001b[0m \u001b[32m━━━━━━━━━━━━━━━━━━━━\u001b[0m\u001b[37m\u001b[0m \u001b[1m0s\u001b[0m 40ms/step - loss: 0.0056 - val_loss: 0.0032\n",
      "Epoch 59/100\n",
      "\u001b[1m4/4\u001b[0m \u001b[32m━━━━━━━━━━━━━━━━━━━━\u001b[0m\u001b[37m\u001b[0m \u001b[1m0s\u001b[0m 41ms/step - loss: 0.0050 - val_loss: 0.0030\n",
      "Epoch 60/100\n",
      "\u001b[1m4/4\u001b[0m \u001b[32m━━━━━━━━━━━━━━━━━━━━\u001b[0m\u001b[37m\u001b[0m \u001b[1m0s\u001b[0m 40ms/step - loss: 0.0042 - val_loss: 0.0034\n",
      "Epoch 61/100\n",
      "\u001b[1m4/4\u001b[0m \u001b[32m━━━━━━━━━━━━━━━━━━━━\u001b[0m\u001b[37m\u001b[0m \u001b[1m0s\u001b[0m 38ms/step - loss: 0.0045 - val_loss: 0.0031\n",
      "Epoch 62/100\n",
      "\u001b[1m4/4\u001b[0m \u001b[32m━━━━━━━━━━━━━━━━━━━━\u001b[0m\u001b[37m\u001b[0m \u001b[1m0s\u001b[0m 40ms/step - loss: 0.0046 - val_loss: 0.0036\n",
      "Epoch 63/100\n",
      "\u001b[1m4/4\u001b[0m \u001b[32m━━━━━━━━━━━━━━━━━━━━\u001b[0m\u001b[37m\u001b[0m \u001b[1m0s\u001b[0m 42ms/step - loss: 0.0048 - val_loss: 0.0036\n",
      "Epoch 64/100\n",
      "\u001b[1m4/4\u001b[0m \u001b[32m━━━━━━━━━━━━━━━━━━━━\u001b[0m\u001b[37m\u001b[0m \u001b[1m0s\u001b[0m 44ms/step - loss: 0.0044 - val_loss: 0.0037\n",
      "Epoch 65/100\n",
      "\u001b[1m4/4\u001b[0m \u001b[32m━━━━━━━━━━━━━━━━━━━━\u001b[0m\u001b[37m\u001b[0m \u001b[1m0s\u001b[0m 40ms/step - loss: 0.0049 - val_loss: 0.0034\n",
      "Epoch 66/100\n",
      "\u001b[1m4/4\u001b[0m \u001b[32m━━━━━━━━━━━━━━━━━━━━\u001b[0m\u001b[37m\u001b[0m \u001b[1m0s\u001b[0m 34ms/step - loss: 0.0043 - val_loss: 0.0030\n",
      "Epoch 67/100\n",
      "\u001b[1m4/4\u001b[0m \u001b[32m━━━━━━━━━━━━━━━━━━━━\u001b[0m\u001b[37m\u001b[0m \u001b[1m0s\u001b[0m 56ms/step - loss: 0.0036 - val_loss: 0.0034\n",
      "Epoch 68/100\n",
      "\u001b[1m4/4\u001b[0m \u001b[32m━━━━━━━━━━━━━━━━━━━━\u001b[0m\u001b[37m\u001b[0m \u001b[1m0s\u001b[0m 44ms/step - loss: 0.0040 - val_loss: 0.0034\n",
      "Epoch 69/100\n",
      "\u001b[1m4/4\u001b[0m \u001b[32m━━━━━━━━━━━━━━━━━━━━\u001b[0m\u001b[37m\u001b[0m \u001b[1m0s\u001b[0m 39ms/step - loss: 0.0050 - val_loss: 0.0029\n",
      "Epoch 70/100\n",
      "\u001b[1m4/4\u001b[0m \u001b[32m━━━━━━━━━━━━━━━━━━━━\u001b[0m\u001b[37m\u001b[0m \u001b[1m0s\u001b[0m 38ms/step - loss: 0.0040 - val_loss: 0.0026\n",
      "Epoch 71/100\n",
      "\u001b[1m4/4\u001b[0m \u001b[32m━━━━━━━━━━━━━━━━━━━━\u001b[0m\u001b[37m\u001b[0m \u001b[1m0s\u001b[0m 36ms/step - loss: 0.0048 - val_loss: 0.0025\n",
      "Epoch 72/100\n",
      "\u001b[1m4/4\u001b[0m \u001b[32m━━━━━━━━━━━━━━━━━━━━\u001b[0m\u001b[37m\u001b[0m \u001b[1m0s\u001b[0m 43ms/step - loss: 0.0041 - val_loss: 0.0026\n",
      "Epoch 73/100\n",
      "\u001b[1m4/4\u001b[0m \u001b[32m━━━━━━━━━━━━━━━━━━━━\u001b[0m\u001b[37m\u001b[0m \u001b[1m0s\u001b[0m 39ms/step - loss: 0.0047 - val_loss: 0.0025\n",
      "Epoch 74/100\n",
      "\u001b[1m4/4\u001b[0m \u001b[32m━━━━━━━━━━━━━━━━━━━━\u001b[0m\u001b[37m\u001b[0m \u001b[1m0s\u001b[0m 61ms/step - loss: 0.0034 - val_loss: 0.0028\n",
      "Epoch 75/100\n",
      "\u001b[1m4/4\u001b[0m \u001b[32m━━━━━━━━━━━━━━━━━━━━\u001b[0m\u001b[37m\u001b[0m \u001b[1m0s\u001b[0m 40ms/step - loss: 0.0043 - val_loss: 0.0029\n",
      "Epoch 76/100\n",
      "\u001b[1m4/4\u001b[0m \u001b[32m━━━━━━━━━━━━━━━━━━━━\u001b[0m\u001b[37m\u001b[0m \u001b[1m0s\u001b[0m 33ms/step - loss: 0.0038 - val_loss: 0.0029\n",
      "Epoch 77/100\n",
      "\u001b[1m4/4\u001b[0m \u001b[32m━━━━━━━━━━━━━━━━━━━━\u001b[0m\u001b[37m\u001b[0m \u001b[1m0s\u001b[0m 38ms/step - loss: 0.0039 - val_loss: 0.0026\n",
      "Epoch 78/100\n",
      "\u001b[1m4/4\u001b[0m \u001b[32m━━━━━━━━━━━━━━━━━━━━\u001b[0m\u001b[37m\u001b[0m \u001b[1m0s\u001b[0m 39ms/step - loss: 0.0040 - val_loss: 0.0028\n",
      "Epoch 79/100\n",
      "\u001b[1m4/4\u001b[0m \u001b[32m━━━━━━━━━━━━━━━━━━━━\u001b[0m\u001b[37m\u001b[0m \u001b[1m0s\u001b[0m 38ms/step - loss: 0.0039 - val_loss: 0.0028\n",
      "Epoch 80/100\n",
      "\u001b[1m4/4\u001b[0m \u001b[32m━━━━━━━━━━━━━━━━━━━━\u001b[0m\u001b[37m\u001b[0m \u001b[1m0s\u001b[0m 39ms/step - loss: 0.0040 - val_loss: 0.0029\n",
      "Epoch 81/100\n",
      "\u001b[1m4/4\u001b[0m \u001b[32m━━━━━━━━━━━━━━━━━━━━\u001b[0m\u001b[37m\u001b[0m \u001b[1m0s\u001b[0m 39ms/step - loss: 0.0046 - val_loss: 0.0043\n",
      "Epoch 82/100\n",
      "\u001b[1m4/4\u001b[0m \u001b[32m━━━━━━━━━━━━━━━━━━━━\u001b[0m\u001b[37m\u001b[0m \u001b[1m0s\u001b[0m 39ms/step - loss: 0.0055 - val_loss: 0.0043\n",
      "Epoch 83/100\n",
      "\u001b[1m4/4\u001b[0m \u001b[32m━━━━━━━━━━━━━━━━━━━━\u001b[0m\u001b[37m\u001b[0m \u001b[1m0s\u001b[0m 39ms/step - loss: 0.0070 - val_loss: 0.0039\n",
      "Epoch 84/100\n",
      "\u001b[1m4/4\u001b[0m \u001b[32m━━━━━━━━━━━━━━━━━━━━\u001b[0m\u001b[37m\u001b[0m \u001b[1m0s\u001b[0m 39ms/step - loss: 0.0077 - val_loss: 0.0034\n",
      "Epoch 85/100\n",
      "\u001b[1m4/4\u001b[0m \u001b[32m━━━━━━━━━━━━━━━━━━━━\u001b[0m\u001b[37m\u001b[0m \u001b[1m0s\u001b[0m 39ms/step - loss: 0.0049 - val_loss: 0.0050\n",
      "Epoch 86/100\n",
      "\u001b[1m4/4\u001b[0m \u001b[32m━━━━━━━━━━━━━━━━━━━━\u001b[0m\u001b[37m\u001b[0m \u001b[1m0s\u001b[0m 39ms/step - loss: 0.0055 - val_loss: 0.0038\n",
      "Epoch 87/100\n",
      "\u001b[1m4/4\u001b[0m \u001b[32m━━━━━━━━━━━━━━━━━━━━\u001b[0m\u001b[37m\u001b[0m \u001b[1m0s\u001b[0m 36ms/step - loss: 0.0048 - val_loss: 0.0029\n",
      "Epoch 88/100\n",
      "\u001b[1m4/4\u001b[0m \u001b[32m━━━━━━━━━━━━━━━━━━━━\u001b[0m\u001b[37m\u001b[0m \u001b[1m0s\u001b[0m 41ms/step - loss: 0.0046 - val_loss: 0.0031\n",
      "Epoch 89/100\n",
      "\u001b[1m4/4\u001b[0m \u001b[32m━━━━━━━━━━━━━━━━━━━━\u001b[0m\u001b[37m\u001b[0m \u001b[1m0s\u001b[0m 39ms/step - loss: 0.0039 - val_loss: 0.0033\n",
      "Epoch 90/100\n",
      "\u001b[1m4/4\u001b[0m \u001b[32m━━━━━━━━━━━━━━━━━━━━\u001b[0m\u001b[37m\u001b[0m \u001b[1m0s\u001b[0m 41ms/step - loss: 0.0038 - val_loss: 0.0026\n",
      "Epoch 91/100\n",
      "\u001b[1m4/4\u001b[0m \u001b[32m━━━━━━━━━━━━━━━━━━━━\u001b[0m\u001b[37m\u001b[0m \u001b[1m0s\u001b[0m 44ms/step - loss: 0.0046 - val_loss: 0.0034\n",
      "Epoch 92/100\n",
      "\u001b[1m4/4\u001b[0m \u001b[32m━━━━━━━━━━━━━━━━━━━━\u001b[0m\u001b[37m\u001b[0m \u001b[1m0s\u001b[0m 67ms/step - loss: 0.0042 - val_loss: 0.0033\n",
      "Epoch 93/100\n",
      "\u001b[1m4/4\u001b[0m \u001b[32m━━━━━━━━━━━━━━━━━━━━\u001b[0m\u001b[37m\u001b[0m \u001b[1m0s\u001b[0m 42ms/step - loss: 0.0049 - val_loss: 0.0029\n",
      "Epoch 94/100\n",
      "\u001b[1m4/4\u001b[0m \u001b[32m━━━━━━━━━━━━━━━━━━━━\u001b[0m\u001b[37m\u001b[0m \u001b[1m0s\u001b[0m 42ms/step - loss: 0.0037 - val_loss: 0.0027\n",
      "Epoch 95/100\n",
      "\u001b[1m4/4\u001b[0m \u001b[32m━━━━━━━━━━━━━━━━━━━━\u001b[0m\u001b[37m\u001b[0m \u001b[1m0s\u001b[0m 44ms/step - loss: 0.0037 - val_loss: 0.0027\n",
      "Epoch 96/100\n",
      "\u001b[1m4/4\u001b[0m \u001b[32m━━━━━━━━━━━━━━━━━━━━\u001b[0m\u001b[37m\u001b[0m \u001b[1m0s\u001b[0m 40ms/step - loss: 0.0043 - val_loss: 0.0025\n",
      "Epoch 97/100\n",
      "\u001b[1m4/4\u001b[0m \u001b[32m━━━━━━━━━━━━━━━━━━━━\u001b[0m\u001b[37m\u001b[0m \u001b[1m0s\u001b[0m 44ms/step - loss: 0.0038 - val_loss: 0.0028\n",
      "Epoch 98/100\n",
      "\u001b[1m4/4\u001b[0m \u001b[32m━━━━━━━━━━━━━━━━━━━━\u001b[0m\u001b[37m\u001b[0m \u001b[1m0s\u001b[0m 45ms/step - loss: 0.0032 - val_loss: 0.0031\n",
      "Epoch 99/100\n",
      "\u001b[1m4/4\u001b[0m \u001b[32m━━━━━━━━━━━━━━━━━━━━\u001b[0m\u001b[37m\u001b[0m \u001b[1m0s\u001b[0m 40ms/step - loss: 0.0042 - val_loss: 0.0025\n",
      "Epoch 100/100\n",
      "\u001b[1m4/4\u001b[0m \u001b[32m━━━━━━━━━━━━━━━━━━━━\u001b[0m\u001b[37m\u001b[0m \u001b[1m0s\u001b[0m 44ms/step - loss: 0.0042 - val_loss: 0.0027\n"
     ]
    },
    {
     "data": {
      "text/plain": [
       "<keras.src.callbacks.history.History at 0x14ae57e7150>"
      ]
     },
     "execution_count": 27,
     "metadata": {},
     "output_type": "execute_result"
    }
   ],
   "source": [
    "model.fit(X_train,Y_train,validation_data=(X_val,Y_val),epochs=100,verbose=1)"
   ]
  },
  {
   "cell_type": "code",
   "execution_count": 29,
   "id": "66ab8b0f-7f81-4568-8954-77195af3531f",
   "metadata": {},
   "outputs": [
    {
     "name": "stdout",
     "output_type": "stream",
     "text": [
      "\u001b[1m4/4\u001b[0m \u001b[32m━━━━━━━━━━━━━━━━━━━━\u001b[0m\u001b[37m\u001b[0m \u001b[1m0s\u001b[0m 11ms/step\n"
     ]
    },
    {
     "data": {
      "text/plain": [
       "array([[0.10559942],\n",
       "       [0.10463926],\n",
       "       [0.10752775],\n",
       "       [0.12078914],\n",
       "       [0.13920288],\n",
       "       [0.15339206],\n",
       "       [0.16079009],\n",
       "       [0.16177781],\n",
       "       [0.14394426],\n",
       "       [0.11447306],\n",
       "       [0.08567195],\n",
       "       [0.06571166],\n",
       "       [0.05785718],\n",
       "       [0.06331007],\n",
       "       [0.07323955],\n",
       "       [0.0881616 ],\n",
       "       [0.10620484],\n",
       "       [0.13131827],\n",
       "       [0.16585986],\n",
       "       [0.20782407],\n",
       "       [0.24155492],\n",
       "       [0.26285973],\n",
       "       [0.2707084 ],\n",
       "       [0.2735968 ],\n",
       "       [0.28080916],\n",
       "       [0.29644203],\n",
       "       [0.3093199 ],\n",
       "       [0.31906044],\n",
       "       [0.33142325],\n",
       "       [0.32175142],\n",
       "       [0.30272898],\n",
       "       [0.28843495],\n",
       "       [0.27813643],\n",
       "       [0.27628252],\n",
       "       [0.2880826 ],\n",
       "       [0.2940971 ],\n",
       "       [0.29751644],\n",
       "       [0.303682  ],\n",
       "       [0.29375607],\n",
       "       [0.27711824],\n",
       "       [0.2671508 ],\n",
       "       [0.25690302],\n",
       "       [0.25357342],\n",
       "       [0.25838292],\n",
       "       [0.24558848],\n",
       "       [0.2248017 ],\n",
       "       [0.20983608],\n",
       "       [0.1957417 ],\n",
       "       [0.18736061],\n",
       "       [0.19167471],\n",
       "       [0.19243696],\n",
       "       [0.1923665 ],\n",
       "       [0.19649713],\n",
       "       [0.19437686],\n",
       "       [0.18968529],\n",
       "       [0.18794332],\n",
       "       [0.19470555],\n",
       "       [0.21291716],\n",
       "       [0.2471671 ],\n",
       "       [0.28269237],\n",
       "       [0.31312606],\n",
       "       [0.3401124 ],\n",
       "       [0.35323423],\n",
       "       [0.3534611 ],\n",
       "       [0.35159513],\n",
       "       [0.33023226],\n",
       "       [0.30063066],\n",
       "       [0.27763373],\n",
       "       [0.25273478],\n",
       "       [0.23445864],\n",
       "       [0.23303026],\n",
       "       [0.25120187],\n",
       "       [0.28640977],\n",
       "       [0.32470566],\n",
       "       [0.3543048 ],\n",
       "       [0.37141722],\n",
       "       [0.38519403],\n",
       "       [0.38480043],\n",
       "       [0.37773168],\n",
       "       [0.37334996],\n",
       "       [0.3706014 ],\n",
       "       [0.37362772],\n",
       "       [0.38335422],\n",
       "       [0.3795833 ],\n",
       "       [0.37013716],\n",
       "       [0.3698414 ],\n",
       "       [0.37425864],\n",
       "       [0.3862783 ],\n",
       "       [0.40631753],\n",
       "       [0.41387892],\n",
       "       [0.41596752],\n",
       "       [0.42423853],\n",
       "       [0.42526954],\n",
       "       [0.42801648],\n",
       "       [0.4368258 ],\n",
       "       [0.4341236 ],\n",
       "       [0.42574027],\n",
       "       [0.41979533],\n",
       "       [0.41140136],\n",
       "       [0.40941986],\n",
       "       [0.41617   ],\n",
       "       [0.38372558],\n",
       "       [0.33677897],\n",
       "       [0.2994877 ],\n",
       "       [0.2867027 ],\n",
       "       [0.29807028],\n",
       "       [0.33039016],\n",
       "       [0.3529689 ],\n",
       "       [0.36565176],\n",
       "       [0.37508526],\n",
       "       [0.39378518],\n",
       "       [0.42278522],\n",
       "       [0.45737216],\n",
       "       [0.55289066],\n",
       "       [0.6779497 ],\n",
       "       [0.7794615 ],\n",
       "       [0.83508253],\n",
       "       [0.8530922 ],\n",
       "       [0.85294753],\n",
       "       [0.8373808 ],\n",
       "       [0.82812816],\n",
       "       [0.83559245],\n",
       "       [0.8929822 ],\n",
       "       [0.9710012 ]], dtype=float32)"
      ]
     },
     "execution_count": 29,
     "metadata": {},
     "output_type": "execute_result"
    }
   ],
   "source": [
    "Y_pred=model.predict(X)\n",
    "Y_pred"
   ]
  },
  {
   "cell_type": "code",
   "execution_count": 30,
   "id": "a1e355e1-eb06-44ec-9cee-402c544bcd9d",
   "metadata": {},
   "outputs": [
    {
     "data": {
      "text/plain": [
       "array([0.10392878, 0.10392878, 0.17611767, 0.15598994, 0.1153474 ,\n",
       "       0.12579834, 0.11999226, 0.        , 0.01799884, 0.03173989,\n",
       "       0.06580221, 0.0803174 , 0.09773563, 0.06270563, 0.11689568,\n",
       "       0.11573447, 0.19295529, 0.24811302, 0.2587575 , 0.21985678,\n",
       "       0.23824269, 0.23843623, 0.29359396, 0.32784982, 0.36055738,\n",
       "       0.32649506, 0.34855816, 0.38184633, 0.27056319, 0.31333462,\n",
       "       0.34275208, 0.31604413, 0.3342365 , 0.36326689, 0.29591639,\n",
       "       0.31662473, 0.34197794, 0.24772595, 0.26707954, 0.29475518,\n",
       "       0.2485001 , 0.27578866, 0.2862396 , 0.15966712, 0.18792336,\n",
       "       0.21521192, 0.1681827 , 0.18772982, 0.2161796 , 0.14766789,\n",
       "       0.17379524, 0.19818076, 0.13857171, 0.16353784, 0.17747242,\n",
       "       0.22779176, 0.26437004, 0.31875363, 0.29727114, 0.31739888,\n",
       "       0.35436423, 0.32843042, 0.336946  , 0.36849236, 0.27811109,\n",
       "       0.29727114, 0.32088252, 0.25469325, 0.27694987, 0.31043159,\n",
       "       0.3439133 , 0.37062125, 0.3514612 , 0.3514612 , 0.35552545,\n",
       "       0.40197407, 0.35126766, 0.3746855 , 0.39442617, 0.38842655,\n",
       "       0.41029611, 0.42287594, 0.35571899, 0.38029805, 0.41745694,\n",
       "       0.40584478, 0.42945616, 0.44668086, 0.3946197 , 0.42365009,\n",
       "       0.46119605, 0.41571512, 0.44842268, 0.46777627, 0.41223147,\n",
       "       0.4269402 , 0.4371976 , 0.41358622, 0.43835882, 0.44861622,\n",
       "       0.27424037, 0.30598026, 0.32281788, 0.35049352, 0.35939617,\n",
       "       0.38532998, 0.31275402, 0.3363654 , 0.35823495, 0.4172634 ,\n",
       "       0.44493904, 0.46545384, 0.74259725, 0.76156377, 0.76195084,\n",
       "       0.79910973, 0.82814012, 0.84497774, 0.81227018, 0.82968841,\n",
       "       0.8420747 , 0.95297078, 0.96748597, 1.        ])"
      ]
     },
     "execution_count": 30,
     "metadata": {},
     "output_type": "execute_result"
    }
   ],
   "source": [
    "Y"
   ]
  },
  {
   "cell_type": "code",
   "execution_count": 32,
   "id": "8aa6e69b-0ad8-4744-bea7-0a790bdf02ab",
   "metadata": {},
   "outputs": [
    {
     "name": "stderr",
     "output_type": "stream",
     "text": [
      "C:\\Users\\Kushagra\\AppData\\Local\\Temp\\ipykernel_8320\\1249665555.py:1: RuntimeWarning: divide by zero encountered in divide\n",
      "  Y_pred[:,0]/Y\n"
     ]
    },
    {
     "data": {
      "text/plain": [
       "array([1.01607485, 1.00683625, 0.61054491, 0.77433932, 1.20681421,\n",
       "       1.2193489 , 1.34000383,        inf, 7.99741945, 3.60659939,\n",
       "       1.30196161, 0.81814978, 0.59197635, 1.00963932, 0.62653767,\n",
       "       0.76175753, 0.55041163, 0.52926795, 0.64098572, 0.9452702 ,\n",
       "       1.01390272, 1.10243201, 0.92205034, 0.83451867, 0.77881962,\n",
       "       0.90795257, 0.88742698, 0.83557289, 1.22493845, 1.02686199,\n",
       "       0.88323018, 0.9126414 , 0.83215457, 0.76054969, 0.97352701,\n",
       "       0.92885067, 0.86998722, 1.22587882, 1.09988232, 0.9401641 ,\n",
       "       1.07505306, 0.93152135, 0.88587819, 1.61826004, 1.30685446,\n",
       "       1.04455972, 1.24766747, 1.04267768, 0.86668961, 1.29801209,\n",
       "       1.10726257, 0.9706618 , 1.41801768, 1.18857422, 1.06881556,\n",
       "       0.8250664 , 0.73648869, 0.66796781, 0.83145337, 0.89065335,\n",
       "       0.88362771, 1.03556907, 1.04834077, 0.95920874, 1.26422551,\n",
       "       1.11087897, 0.93688698, 1.09007102, 0.91256507, 0.7552667 ,\n",
       "       0.67758433, 0.67778593, 0.81491149, 0.92387343, 0.9965666 ,\n",
       "       0.92398305, 1.09658268, 1.02699579, 0.95767399, 0.96118548,\n",
       "       0.90325347, 0.88353979, 1.07768838, 0.99812056, 0.88664751,\n",
       "       0.91128779, 0.8714711 , 0.86477469, 1.0296433 , 0.97693576,\n",
       "       0.9019321 , 1.02050303, 0.9483676 , 0.91500255, 1.05966149,\n",
       "       1.01682533, 0.97379371, 1.01501287, 0.93850368, 0.91262832,\n",
       "       1.51753733, 1.25408608, 1.04324756, 0.85447432, 0.79773442,\n",
       "       0.77354553, 1.05638981, 1.04936152, 1.02070374, 0.89891724,\n",
       "       0.88503176, 0.908329  , 0.61590877, 0.72599391, 0.8897552 ,\n",
       "       0.97541235, 1.00838314, 1.00960315, 1.0500786 , 1.00927146,\n",
       "       0.98343788, 0.87682904, 0.92299239, 0.97100121])"
      ]
     },
     "execution_count": 32,
     "metadata": {},
     "output_type": "execute_result"
    }
   ],
   "source": [
    "Y_pred[:,0]/Y"
   ]
  },
  {
   "cell_type": "code",
   "execution_count": 69,
   "id": "677b8c41-4e2c-4352-b14b-f49f48d13bb1",
   "metadata": {},
   "outputs": [],
   "source": [
    "df2=pd.DataFrame(sc.transform(df1))"
   ]
  },
  {
   "cell_type": "code",
   "execution_count": 70,
   "id": "daa2a6c4-5cd6-4b0d-ad7d-dfdebd8fac5f",
   "metadata": {},
   "outputs": [
    {
     "name": "stdout",
     "output_type": "stream",
     "text": [
      "\u001b[1m6/6\u001b[0m \u001b[32m━━━━━━━━━━━━━━━━━━━━\u001b[0m\u001b[37m\u001b[0m \u001b[1m0s\u001b[0m 9ms/step \n"
     ]
    },
    {
     "name": "stderr",
     "output_type": "stream",
     "text": [
      "C:\\Users\\Kushagra\\AppData\\Local\\Temp\\ipykernel_8320\\1889301026.py:3: RuntimeWarning: divide by zero encountered in divide\n",
      "  Y_pred1[:,0]/Y_test\n"
     ]
    },
    {
     "data": {
      "text/plain": [
       "array([1.01607485, 1.00683625, 0.61054491, 0.77433932, 1.20681421,\n",
       "       1.2193489 , 1.34000383,        inf, 7.99741945, 3.60659939,\n",
       "       1.30196161, 0.81814978, 0.59197635, 1.00963932, 0.62653767,\n",
       "       0.76175753, 0.55041163, 0.52926795, 0.64098572, 0.9452702 ,\n",
       "       1.01390272, 1.10243201, 0.92205034, 0.83451867, 0.77881962,\n",
       "       0.90795257, 0.88742698, 0.83557289, 1.22493845, 1.02686199,\n",
       "       0.88323018, 0.9126414 , 0.83215457, 0.76054969, 0.97352701,\n",
       "       0.92885067, 0.86998722, 1.22587882, 1.09988232, 0.9401641 ,\n",
       "       1.07505306, 0.93152135, 0.88587819, 1.61826004, 1.30685446,\n",
       "       1.04455972, 1.24766747, 1.04267768, 0.86668961, 1.29801209,\n",
       "       1.10726257, 0.9706618 , 1.41801768, 1.18857422, 1.06881556,\n",
       "       0.8250664 , 0.73648869, 0.66796781, 0.83145337, 0.89065335,\n",
       "       0.88362771, 1.03556907, 1.04834077, 0.95920874, 1.26422551,\n",
       "       1.11087897, 0.93688698, 1.09007102, 0.91256507, 0.7552667 ,\n",
       "       0.67758433, 0.67778593, 0.81491149, 0.92387343, 0.9965666 ,\n",
       "       0.92398305, 1.09658268, 1.02699579, 0.95767399, 0.96118548,\n",
       "       0.90325347, 0.88353979, 1.07768838, 0.99812056, 0.88664751,\n",
       "       0.91128779, 0.8714711 , 0.86477469, 1.0296433 , 0.97693576,\n",
       "       0.9019321 , 1.02050303, 0.9483676 , 0.91500255, 1.05966149,\n",
       "       1.01682533, 0.97379371, 1.01501287, 0.93850368, 0.91262832,\n",
       "       1.51753733, 1.25408608, 1.04324756, 0.85447432, 0.79773442,\n",
       "       0.77354553, 1.05638981, 1.04936152, 1.02070374, 0.89891724,\n",
       "       0.88503176, 0.908329  , 0.61590877, 0.72599391, 0.8897552 ,\n",
       "       0.97541235, 1.00838314, 1.00960315, 1.0500786 , 1.00927146,\n",
       "       0.98343788, 0.87682904, 0.92299239, 0.97100121, 1.10048772,\n",
       "       1.11046534, 1.12480677, 1.48286022, 1.35270047, 1.16439931,\n",
       "       1.81378164, 1.66169726, 1.44457697, 1.69599036, 1.39031714,\n",
       "       1.14834674, 1.26124645, 1.13242328, 1.09249831, 1.24296334,\n",
       "       1.19876309, 1.13941752, 1.07887271, 1.08605555, 1.05666352,\n",
       "       1.1436059 , 1.13349526, 1.07444549, 1.02767267, 0.98750428,\n",
       "       0.99505141, 1.10110447, 1.06471844, 0.98661564, 0.93549081,\n",
       "       0.93977056, 0.93446813, 0.82552021, 0.942075  , 1.00924249,\n",
       "       1.09473391, 1.08427812, 1.05961773, 1.12577672, 1.08240357,\n",
       "       1.04812395, 1.03938597, 1.03953523, 1.08502106])"
      ]
     },
     "execution_count": 70,
     "metadata": {},
     "output_type": "execute_result"
    }
   ],
   "source": [
    "X_test,Y_test=create_dataset(df2,20)\n",
    "Y_pred1=model.predict(X_test)\n",
    "Y_pred1[:,0]/Y_test"
   ]
  },
  {
   "cell_type": "code",
   "execution_count": 72,
   "id": "cc5265d8-11e5-496f-9225-49d0a7a9629a",
   "metadata": {},
   "outputs": [
    {
     "data": {
      "text/plain": [
       "array([[ 945.43164],\n",
       "       [ 945.1836 ],\n",
       "       [ 945.9298 ],\n",
       "       [ 949.35583],\n",
       "       [ 954.11304],\n",
       "       [ 957.7789 ],\n",
       "       [ 959.69006],\n",
       "       [ 959.9453 ],\n",
       "       [ 955.338  ],\n",
       "       [ 947.7241 ],\n",
       "       [ 940.2833 ],\n",
       "       [ 935.12665],\n",
       "       [ 933.0974 ],\n",
       "       [ 934.50616],\n",
       "       [ 937.0715 ],\n",
       "       [ 940.9265 ],\n",
       "       [ 945.588  ],\n",
       "       [ 952.0761 ],\n",
       "       [ 960.99994],\n",
       "       [ 971.8413 ],\n",
       "       [ 980.5557 ],\n",
       "       [ 986.0598 ],\n",
       "       [ 988.0875 ],\n",
       "       [ 988.83374],\n",
       "       [ 990.697  ],\n",
       "       [ 994.7358 ],\n",
       "       [ 998.0628 ],\n",
       "       [1000.5792 ],\n",
       "       [1003.7732 ],\n",
       "       [1001.2745 ],\n",
       "       [ 996.36   ],\n",
       "       [ 992.6672 ],\n",
       "       [ 990.0066 ],\n",
       "       [ 989.5276 ],\n",
       "       [ 992.5762 ],\n",
       "       [ 994.13   ],\n",
       "       [ 995.01337],\n",
       "       [ 996.60626],\n",
       "       [ 994.0419 ],\n",
       "       [ 989.74347],\n",
       "       [ 987.16846],\n",
       "       [ 984.5209 ],\n",
       "       [ 983.6607 ],\n",
       "       [ 984.9032 ],\n",
       "       [ 981.5978 ],\n",
       "       [ 976.22754],\n",
       "       [ 972.36115],\n",
       "       [ 968.71985],\n",
       "       [ 966.5546 ],\n",
       "       [ 967.6692 ],\n",
       "       [ 967.8661 ],\n",
       "       [ 967.84784],\n",
       "       [ 968.91504],\n",
       "       [ 968.3673 ],\n",
       "       [ 967.1552 ],\n",
       "       [ 966.70514],\n",
       "       [ 968.45215],\n",
       "       [ 973.1571 ],\n",
       "       [ 982.0056 ],\n",
       "       [ 991.1836 ],\n",
       "       [ 999.04614],\n",
       "       [1006.01807],\n",
       "       [1009.4081 ],\n",
       "       [1009.4667 ],\n",
       "       [1008.9846 ],\n",
       "       [1003.46545],\n",
       "       [ 995.81793],\n",
       "       [ 989.87665],\n",
       "       [ 983.44403],\n",
       "       [ 978.7224 ],\n",
       "       [ 978.3534 ],\n",
       "       [ 983.04803],\n",
       "       [ 992.144  ],\n",
       "       [1002.0377 ],\n",
       "       [1009.68463],\n",
       "       [1014.10565],\n",
       "       [1017.6649 ],\n",
       "       [1017.5632 ],\n",
       "       [1015.73694],\n",
       "       [1014.605  ],\n",
       "       [1013.8949 ],\n",
       "       [1014.6767 ],\n",
       "       [1017.1896 ],\n",
       "       [1016.2154 ],\n",
       "       [1013.77496],\n",
       "       [1013.6985 ],\n",
       "       [1014.8397 ],\n",
       "       [1017.945  ],\n",
       "       [1023.12213],\n",
       "       [1025.0757 ],\n",
       "       [1025.6152 ],\n",
       "       [1027.752  ],\n",
       "       [1028.0184 ],\n",
       "       [1028.728  ],\n",
       "       [1031.0039 ],\n",
       "       [1030.3058 ],\n",
       "       [1028.14   ],\n",
       "       [1026.6041 ],\n",
       "       [1024.4355 ],\n",
       "       [1023.9236 ],\n",
       "       [1025.6675 ],\n",
       "       [1017.2855 ],\n",
       "       [1005.1568 ],\n",
       "       [ 995.52264],\n",
       "       [ 992.2196 ],\n",
       "       [ 995.15643],\n",
       "       [1003.5063 ],\n",
       "       [1009.33954],\n",
       "       [1012.61615],\n",
       "       [1015.0533 ],\n",
       "       [1019.8844 ],\n",
       "       [1027.3766 ],\n",
       "       [1036.3121 ],\n",
       "       [1060.9894 ],\n",
       "       [1093.2983 ],\n",
       "       [1119.5238 ],\n",
       "       [1133.8936 ],\n",
       "       [1138.5464 ],\n",
       "       [1138.509  ],\n",
       "       [1134.4873 ],\n",
       "       [1132.0969 ],\n",
       "       [1134.0253 ],\n",
       "       [1148.8519 ],\n",
       "       [1169.0082 ],\n",
       "       [1189.6953 ],\n",
       "       [1201.0966 ],\n",
       "       [1209.1937 ],\n",
       "       [1217.3171 ],\n",
       "       [1201.8789 ],\n",
       "       [1185.9037 ],\n",
       "       [1185.5922 ],\n",
       "       [1160.6747 ],\n",
       "       [1131.2251 ],\n",
       "       [1109.712  ],\n",
       "       [1085.9612 ],\n",
       "       [1068.8131 ],\n",
       "       [1062.4365 ],\n",
       "       [1057.4946 ],\n",
       "       [1056.7335 ],\n",
       "       [1060.6558 ],\n",
       "       [1062.541  ],\n",
       "       [1063.7106 ],\n",
       "       [1065.7938 ],\n",
       "       [1070.0349 ],\n",
       "       [1074.3777 ],\n",
       "       [1078.8838 ],\n",
       "       [1078.9363 ],\n",
       "       [1075.5026 ],\n",
       "       [1071.8899 ],\n",
       "       [1069.5343 ],\n",
       "       [1069.2485 ],\n",
       "       [1069.9923 ],\n",
       "       [1066.3589 ],\n",
       "       [1061.0613 ],\n",
       "       [1058.38   ],\n",
       "       [1059.7734 ],\n",
       "       [1063.7869 ],\n",
       "       [1070.087  ],\n",
       "       [1084.756  ],\n",
       "       [1098.653  ],\n",
       "       [1107.9768 ],\n",
       "       [1109.7963 ],\n",
       "       [1108.0334 ],\n",
       "       [1106.1547 ],\n",
       "       [1101.2385 ],\n",
       "       [1096.7502 ],\n",
       "       [1094.6897 ],\n",
       "       [1094.6631 ],\n",
       "       [1095.9307 ]], dtype=float32)"
      ]
     },
     "execution_count": 72,
     "metadata": {},
     "output_type": "execute_result"
    }
   ],
   "source": [
    "sc.inverse_transform(Y_pred1)"
   ]
  },
  {
   "cell_type": "code",
   "execution_count": null,
   "id": "142c7af3-0721-4948-9a70-6792c675af21",
   "metadata": {},
   "outputs": [],
   "source": []
  }
 ],
 "metadata": {
  "kernelspec": {
   "display_name": "Python 3 (ipykernel)",
   "language": "python",
   "name": "python3"
  },
  "language_info": {
   "codemirror_mode": {
    "name": "ipython",
    "version": 3
   },
   "file_extension": ".py",
   "mimetype": "text/x-python",
   "name": "python",
   "nbconvert_exporter": "python",
   "pygments_lexer": "ipython3",
   "version": "3.11.9"
  }
 },
 "nbformat": 4,
 "nbformat_minor": 5
}
